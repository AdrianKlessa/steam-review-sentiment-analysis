{
 "cells": [
  {
   "cell_type": "markdown",
   "source": [
    "### TFIDF --> Feedforward Neural Network"
   ],
   "metadata": {
    "collapsed": false
   }
  },
  {
   "cell_type": "code",
   "execution_count": 1,
   "outputs": [],
   "source": [
    "import pandas as pd\n",
    "import numpy as np\n",
    "\n",
    "train = pd.read_csv(\"train.csv\")\n",
    "test = pd.read_csv(\"test.csv\")\n",
    "valid = pd.read_csv(\"valid.csv\")\n",
    "\n",
    "train.loc[train[\"review_score\"]==-1, \"review_score\"]=0\n",
    "test.loc[test[\"review_score\"]==-1, \"review_score\"]=0\n",
    "valid.loc[valid[\"review_score\"]==-1, \"review_score\"]=0"
   ],
   "metadata": {
    "collapsed": false
   }
  },
  {
   "cell_type": "code",
   "execution_count": 2,
   "outputs": [
    {
     "data": {
      "text/plain": "review_score\n0    21615\n1    21615\nName: count, dtype: int64"
     },
     "execution_count": 2,
     "metadata": {},
     "output_type": "execute_result"
    }
   ],
   "source": [
    "train[\"review_score\"].value_counts()"
   ],
   "metadata": {
    "collapsed": false
   }
  },
  {
   "cell_type": "code",
   "execution_count": 3,
   "outputs": [
    {
     "name": "stdout",
     "output_type": "stream",
     "text": [
      "<class 'pandas.core.frame.DataFrame'>\n",
      "RangeIndex: 43230 entries, 0 to 43229\n",
      "Data columns (total 3 columns):\n",
      " #   Column        Non-Null Count  Dtype \n",
      "---  ------        --------------  ----- \n",
      " 0   Unnamed: 0    43230 non-null  int64 \n",
      " 1   review_text   43230 non-null  object\n",
      " 2   review_score  43230 non-null  int64 \n",
      "dtypes: int64(2), object(1)\n",
      "memory usage: 1013.3+ KB\n"
     ]
    }
   ],
   "source": [
    "train.info()"
   ],
   "metadata": {
    "collapsed": false
   }
  },
  {
   "cell_type": "code",
   "execution_count": 4,
   "outputs": [],
   "source": [
    "from sklearn.feature_extraction.text import TfidfVectorizer\n",
    "\n",
    "input_vectorizer = TfidfVectorizer(stop_words=\"english\",strip_accents=\"ascii\",max_features=4096, norm=\"l1\")"
   ],
   "metadata": {
    "collapsed": false
   }
  },
  {
   "cell_type": "code",
   "execution_count": 5,
   "outputs": [],
   "source": [
    "input_vectorizer = input_vectorizer.fit(train[\"review_text\"])"
   ],
   "metadata": {
    "collapsed": false
   }
  },
  {
   "cell_type": "code",
   "execution_count": 72,
   "outputs": [],
   "source": [
    "train[\"vectorized\"] = train[\"review_text\"].apply(lambda x : input_vectorizer.transform([x]).toarray()[0])"
   ],
   "metadata": {
    "collapsed": false
   }
  },
  {
   "cell_type": "code",
   "execution_count": 73,
   "outputs": [
    {
     "data": {
      "text/plain": "\"I'm the biggest fan you will ever meet of tile-based rpgs.  Lands of Lore! Eye of the Beholder! YES!!  I've been playing Xeen since '92. Why doesn't someone make a game like that again?!!  No seriously, let me know if you see one, because that's what this game seems to be going for but it sadly misses the mark.   I would be more forgiving and I would even give this game a positive except that the mis-steps they took are downright bewildering.  First what do I love about this title... It really is incredibly challenging. The puzzles, battles, and resource management is unforgiving which is a nice throwback to the 'good old days'. I love that they took that risk here, because usually it makes the difference between a grind and compelling, rewarding gameplay. Grimrock is a nice reminder of the days when games weren't all just an endurance contest, and not everyone could beat every game given enough time.  The first thing you'll notice is that this game is fun. Actually, really fun. You can jump right in without any help and start adventuring. The puzzles feel like first-person zelda and the written 'clues' are a great homage to the first-generation of PC rpg titles. I love the creepy dream sequences, and the customizable party pics are a great touch that is long overdue. The biggest issue this game struggles with slowly becomes apparent with the combat system.  There is a gaping hole in what should be simple mechanics and functionality of the UI and especially combat. The spellcasting system is pretty original, but the act of casting like other actions just doesn't jive with 'real-time' battle. Every battle quickly devolves into a scramble to CLICK ALL THE THINGS and it often leaves the player feeling cheated when things go wrong, especially considering how clunky the menus can be. The frenzy of battle becomes a tedium of switching gear, passing potions around, and constantly equipping new projectiles.  There are no hot keys, you pretty much have to rely on the mouse for everything. The cerebral aspects of the game (puzzles, carefully managing resources, distributing skill points) is lost every time you encounter an enemy, because battle feels too much like a chore rather than fun. To excel in this combat system you have to play a perpetual game of hopscotch with your enemies as you desperately try to click the next action square that lights up at the right time. In addition, the characters here can't seem to hit the broad side of a barn. Had this game incorporated turn-based combat or at least an option for it, this game still wouldn't be a home run but this would be a positive review.   I love that these devs dusted off an sadly neglected style of RPG, but other than a nice facelift there's not much else to see here. I respect the risks they took here but the potential here is tragically lost in the tedium of the clunky and frenzied comat system and a general lack of polish.  You get 4 party members and there are 3 classes.  Scarce resources is one thing I respect, but for an RPG the equipment is so scarce that your characters are still half-naked 8 hours into the game. Thrown weapons, torches, and food all need to be perpetually 'maintained', and inventory management becomes a chore. There seem to be no status icons, save for 'over-encumbered', which doesn't even seem to function properly as the numbers don't make sense. Maybe as part of the homage to old games they decided to add a dash of 'WTF' just for good measure I don't know what else to chalk some of this up to.  There's something here for those of us who remember this classic style, but this just feels like a poorly designed RPG reluctantly wedged into a brilliant dungeon puzzler. Maybe it would be great on a tablet for poop breaks, but as a PC title it feels half-baked. I haven't played the sequel yet but I'm hopeful that they learned some things from this release and improved on what is an intriguing foundation here. I'm not giving up on this series. Don't get me wrong, despite the mis-steps there really is a lot of potential here.  I give it 2 out of 4 skeleton archers, with skeleton-shaped shadow lurking in the corner chattering 'tuuuuurn-BASED!!' and another chattering 'statusssss iconssssss...master warp portalsssssss between levels...one or two more classsesss......chchchchchchchhc'\""
     },
     "execution_count": 73,
     "metadata": {},
     "output_type": "execute_result"
    }
   ],
   "source": [
    "train[\"review_text\"].iloc[0]"
   ],
   "metadata": {
    "collapsed": false
   }
  },
  {
   "cell_type": "code",
   "execution_count": 74,
   "outputs": [
    {
     "data": {
      "text/plain": "array([0., 0., 0., ..., 0., 0., 0.])"
     },
     "execution_count": 74,
     "metadata": {},
     "output_type": "execute_result"
    }
   ],
   "source": [
    "train[\"vectorized\"].iloc[0]"
   ],
   "metadata": {
    "collapsed": false
   }
  },
  {
   "cell_type": "code",
   "execution_count": 75,
   "outputs": [
    {
     "data": {
      "text/plain": "199"
     },
     "execution_count": 75,
     "metadata": {},
     "output_type": "execute_result"
    }
   ],
   "source": [
    "np.count_nonzero(train[\"vectorized\"].iloc[0])"
   ],
   "metadata": {
    "collapsed": false
   }
  },
  {
   "cell_type": "code",
   "execution_count": 50,
   "outputs": [],
   "source": [
    "test[\"vectorized\"] = test[\"review_text\"].apply(lambda x : input_vectorizer.transform([x]).toarray()[0])\n",
    "valid[\"vectorized\"] = valid[\"review_text\"].apply(lambda x : input_vectorizer.transform([x]).toarray()[0])"
   ],
   "metadata": {
    "collapsed": false
   }
  },
  {
   "cell_type": "markdown",
   "source": "After a couple attempts where the model's predictive quality were very low, I added one more layer and increased the number of neurons in hidden layers. I also increased the size of the tf-idf embeddings to 4096. After these changes the model's performance greatly improved.",
   "metadata": {
    "collapsed": false
   }
  },
  {
   "cell_type": "code",
   "execution_count": 77,
   "outputs": [],
   "source": [
    "import tensorflow as tf\n",
    "from tensorflow import keras\n",
    "from keras import layers\n",
    "from keras.optimizers import Adam\n",
    "\n",
    "def create_model():\n",
    "    inputs = keras.Input(shape=(4096,))\n",
    "    dense1 = layers.Dense(1024, activation=\"relu\")(inputs)\n",
    "    dense2 = layers.Dense(512, activation=\"relu\")(dense1)\n",
    "    dense3 = layers.Dense(128, activation=\"relu\")(dense2)\n",
    "    output = layers.Dense(1, activation=\"sigmoid\")(dense3)\n",
    "    model = keras.Model(inputs=inputs, outputs=output)\n",
    "    model.compile(loss='binary_crossentropy', optimizer=Adam(learning_rate=1e-4), metrics=['accuracy'])\n",
    "    return model"
   ],
   "metadata": {
    "collapsed": false
   }
  },
  {
   "cell_type": "code",
   "execution_count": 78,
   "outputs": [
    {
     "data": {
      "text/plain": "array([0., 0., 0., ..., 0., 0., 0.])"
     },
     "execution_count": 78,
     "metadata": {},
     "output_type": "execute_result"
    }
   ],
   "source": [
    "train[\"vectorized\"].iloc[0]"
   ],
   "metadata": {
    "collapsed": false
   }
  },
  {
   "cell_type": "code",
   "execution_count": 79,
   "outputs": [
    {
     "data": {
      "text/plain": "0"
     },
     "execution_count": 79,
     "metadata": {},
     "output_type": "execute_result"
    }
   ],
   "source": [
    "train[\"review_score\"].iloc[0]"
   ],
   "metadata": {
    "collapsed": false
   }
  },
  {
   "cell_type": "code",
   "execution_count": 80,
   "outputs": [],
   "source": [
    "train_x = np.stack(train[\"vectorized\"].values)\n",
    "train_y = np.stack(train[\"review_score\"].values)\n",
    "\n",
    "valid_x = np.stack(valid[\"vectorized\"].values)\n",
    "valid_y = np.stack(valid[\"review_score\"].values)\n",
    "\n",
    "test_x = np.stack(test[\"vectorized\"].values)\n",
    "test_y = np.stack(test[\"review_score\"].values)"
   ],
   "metadata": {
    "collapsed": false
   }
  },
  {
   "cell_type": "code",
   "execution_count": 81,
   "outputs": [
    {
     "name": "stdout",
     "output_type": "stream",
     "text": [
      "Epoch 1/25\n",
      "1351/1351 [==============================] - 15s 11ms/step - loss: 0.4557 - accuracy: 0.7972 - val_loss: 0.4194 - val_accuracy: 0.8150\n",
      "Epoch 2/25\n",
      "1351/1351 [==============================] - 15s 11ms/step - loss: 0.3468 - accuracy: 0.8525 - val_loss: 0.3864 - val_accuracy: 0.8257\n",
      "Epoch 3/25\n",
      "1351/1351 [==============================] - 16s 12ms/step - loss: 0.3006 - accuracy: 0.8706 - val_loss: 0.3710 - val_accuracy: 0.8488\n",
      "Epoch 4/25\n",
      "1351/1351 [==============================] - 15s 11ms/step - loss: 0.2564 - accuracy: 0.8908 - val_loss: 0.4160 - val_accuracy: 0.8260\n",
      "Epoch 5/25\n",
      "1351/1351 [==============================] - 15s 11ms/step - loss: 0.2038 - accuracy: 0.9153 - val_loss: 0.4832 - val_accuracy: 0.8182\n",
      "Epoch 6/25\n",
      "1351/1351 [==============================] - 15s 11ms/step - loss: 0.1435 - accuracy: 0.9416 - val_loss: 0.5748 - val_accuracy: 0.8140\n",
      "Epoch 7/25\n",
      "1351/1351 [==============================] - 15s 11ms/step - loss: 0.0967 - accuracy: 0.9598 - val_loss: 0.7156 - val_accuracy: 0.8019\n",
      "Epoch 8/25\n",
      "1351/1351 [==============================] - 15s 11ms/step - loss: 0.0636 - accuracy: 0.9743 - val_loss: 0.7932 - val_accuracy: 0.8284\n"
     ]
    }
   ],
   "source": [
    "callback = keras.callbacks.EarlyStopping(monitor='val_loss', mode='min', patience=5, restore_best_weights=True)\n",
    "model = create_model()\n",
    "history = model.fit(train_x, train_y, validation_data=(valid_x, valid_y), epochs=25, callbacks=[callback])"
   ],
   "metadata": {
    "collapsed": false
   }
  },
  {
   "cell_type": "markdown",
   "source": "### Towards the end of the training the model suffered from overfitting:",
   "metadata": {
    "collapsed": false
   }
  },
  {
   "cell_type": "code",
   "execution_count": 84,
   "outputs": [
    {
     "data": {
      "text/plain": "<matplotlib.legend.Legend at 0x278b5971970>"
     },
     "execution_count": 84,
     "metadata": {},
     "output_type": "execute_result"
    },
    {
     "data": {
      "text/plain": "<Figure size 640x480 with 1 Axes>",
      "image/png": "[encoded data removed]"
     },
     "metadata": {},
     "output_type": "display_data"
    }
   ],
   "source": [
    "from matplotlib import pyplot as plt\n",
    "plt.plot(history.history['loss'])\n",
    "plt.plot(history.history['val_loss'])\n",
    "plt.title('Wartość funkcji straty')\n",
    "plt.ylabel('Strata')\n",
    "plt.xlabel('Epoka')\n",
    "plt.legend(['train', 'test'], loc='upper left')"
   ],
   "metadata": {
    "collapsed": false
   }
  },
  {
   "cell_type": "code",
   "execution_count": 85,
   "outputs": [
    {
     "data": {
      "text/plain": "<matplotlib.legend.Legend at 0x278b5a63e80>"
     },
     "execution_count": 85,
     "metadata": {},
     "output_type": "execute_result"
    },
    {
     "data": {
      "text/plain": "<Figure size 640x480 with 1 Axes>",
      "image/png": "[encoded data removed]"
     },
     "metadata": {},
     "output_type": "display_data"
    }
   ],
   "source": [
    "from matplotlib import pyplot as plt\n",
    "plt.plot(history.history['accuracy'])\n",
    "plt.plot(history.history['val_accuracy'])\n",
    "plt.title('model accuracy')\n",
    "plt.ylabel('accuracy')\n",
    "plt.xlabel('epoch')\n",
    "plt.legend(['train', 'test'], loc='upper left')"
   ],
   "metadata": {
    "collapsed": false
   }
  },
  {
   "cell_type": "code",
   "execution_count": 86,
   "outputs": [],
   "source": [
    "model.save(\"tfidf_model.keras\")"
   ],
   "metadata": {
    "collapsed": false
   }
  },
  {
   "cell_type": "code",
   "execution_count": 7,
   "outputs": [],
   "source": [
    "import keras\n",
    "model = keras.models.load_model('tfidf_model.keras')"
   ],
   "metadata": {
    "collapsed": false
   }
  },
  {
   "cell_type": "code",
   "execution_count": 37,
   "outputs": [],
   "source": [
    "import tensorflow as tf\n",
    "def test_review_text(sentence):\n",
    "    vectorized = input_vectorizer.transform([sentence]).toarray()[0]\n",
    "    reshaped = tf.reshape(vectorized,shape=(1,4096))\n",
    "    #print(vectorized.shape)\n",
    "    score = float(model(reshaped))\n",
    "    score_rounded = round(score)\n",
    "    print(score)\n",
    "    if score_rounded==0:\n",
    "        print(\"Negative review\")\n",
    "    else:\n",
    "        print(\"Positive review\")"
   ],
   "metadata": {
    "collapsed": false
   }
  },
  {
   "cell_type": "code",
   "execution_count": 47,
   "outputs": [
    {
     "name": "stdout",
     "output_type": "stream",
     "text": [
      "0.0009309111046604812\n",
      "Negative review\n"
     ]
    }
   ],
   "source": [
    "test_review_text(\"A buggy, uninspired mess\")"
   ],
   "metadata": {
    "collapsed": false
   }
  },
  {
   "cell_type": "code",
   "execution_count": 39,
   "outputs": [
    {
     "name": "stdout",
     "output_type": "stream",
     "text": [
      "0.31012997031211853\n",
      "Negative review\n"
     ]
    }
   ],
   "source": [
    "test_review_text(\"This game is bad\")"
   ],
   "metadata": {
    "collapsed": false
   }
  },
  {
   "cell_type": "code",
   "execution_count": 40,
   "outputs": [
    {
     "name": "stdout",
     "output_type": "stream",
     "text": [
      "0.7850202918052673\n",
      "Positive review\n"
     ]
    }
   ],
   "source": [
    "test_review_text(\"This game destroyed my life\")"
   ],
   "metadata": {
    "collapsed": false
   }
  },
  {
   "cell_type": "code",
   "execution_count": 41,
   "outputs": [
    {
     "name": "stdout",
     "output_type": "stream",
     "text": [
      "0.9888448715209961\n",
      "Positive review\n"
     ]
    }
   ],
   "source": [
    "test_review_text(\"Best game I've ever played\")"
   ],
   "metadata": {
    "collapsed": false
   }
  },
  {
   "cell_type": "code",
   "execution_count": 45,
   "outputs": [
    {
     "name": "stdout",
     "output_type": "stream",
     "text": [
      "0.7033981680870056\n",
      "Positive review\n"
     ]
    }
   ],
   "source": [
    "test_review_text(\"Fun cooperative play with scalable difficulty. Rapid path to get into a game with friends or open public games. \")"
   ],
   "metadata": {
    "collapsed": false
   }
  },
  {
   "cell_type": "code",
   "execution_count": 46,
   "outputs": [
    {
     "name": "stdout",
     "output_type": "stream",
     "text": [
      "0.2961832880973816\n",
      "Negative review\n"
     ]
    }
   ],
   "source": [
    "test_review_text(\"Deliriously buggy. Fun if/when it works properly. Wait and see if they actually QA the next few patches before you play.\")"
   ],
   "metadata": {
    "collapsed": false
   }
  },
  {
   "cell_type": "code",
   "execution_count": 52,
   "outputs": [],
   "source": [
    "test[\"model_predictions\"] = model(np.stack(test[\"vectorized\"].values))"
   ],
   "metadata": {
    "collapsed": false
   }
  },
  {
   "cell_type": "code",
   "execution_count": 53,
   "outputs": [],
   "source": [
    "test[\"model_predictions\"] = test[\"model_predictions\"].apply(lambda x : round(float(x)))"
   ],
   "metadata": {
    "collapsed": false
   }
  },
  {
   "cell_type": "code",
   "execution_count": 57,
   "outputs": [
    {
     "name": "stdout",
     "output_type": "stream",
     "text": [
      "Accuracy: 0.85\n",
      "Precision: 0.96\n",
      "Recall: 0.86\n",
      "F1 Score: 0.90\n"
     ]
    }
   ],
   "source": [
    "def get_metrics():\n",
    "    df = test\n",
    "    predictions = df[\"model_predictions\"].to_numpy()\n",
    "    true_values = df[\"review_score\"].to_numpy()\n",
    "    accuracy = np.sum(np.rint(predictions) == true_values)/len(true_values)\n",
    "    TN_count = len(df.query(\"`review_score`==0 and `model_predictions`==0\").index)\n",
    "    TP_count = len(df.query(\"`review_score`==1 and `model_predictions`==1\").index)\n",
    "    FP_count = len(df.query(\"`review_score`==0 and `model_predictions`==1\").index)\n",
    "    FN_count = len(df.query(\"`review_score`==1 and `model_predictions`==0\").index)\n",
    "    precision = TP_count/(TP_count+FP_count)\n",
    "    recall = TP_count/(TP_count+FN_count)\n",
    "    F1_score = (2*precision*recall)/(precision+recall)\n",
    "    print(f\"Accuracy: {accuracy:.2f}\")\n",
    "    print(f\"Precision: {precision:.2f}\")\n",
    "    print(f\"Recall: {recall:.2f}\")\n",
    "    print(f\"F1 Score: {F1_score:.2f}\")\n",
    "get_metrics()"
   ],
   "metadata": {
    "collapsed": false
   }
  },
  {
   "cell_type": "code",
   "execution_count": null,
   "outputs": [],
   "source": [],
   "metadata": {
    "collapsed": false
   }
  }
 ],
 "metadata": {
  "kernelspec": {
   "display_name": "Python 3",
   "language": "python",
   "name": "python3"
  },
  "language_info": {
   "codemirror_mode": {
    "name": "ipython",
    "version": 2
   },
   "file_extension": ".py",
   "mimetype": "text/x-python",
   "name": "python",
   "nbconvert_exporter": "python",
   "pygments_lexer": "ipython2",
   "version": "2.7.6"
  }
 },
 "nbformat": 4,
 "nbformat_minor": 0
}
