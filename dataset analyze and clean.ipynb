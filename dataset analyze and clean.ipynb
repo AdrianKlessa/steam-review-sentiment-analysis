{
 "cells": [
  {
   "cell_type": "markdown",
   "source": "# Dataset analysis, dividing it into train/valid/test subsets",
   "metadata": {
    "collapsed": false
   }
  },
  {
   "cell_type": "code",
   "execution_count": 123,
   "outputs": [
    {
     "data": {
      "text/plain": "         app_id        app_name  \\\n6417086   99910  Puzzle Pirates   \n6417087   99910  Puzzle Pirates   \n6417088   99910  Puzzle Pirates   \n6417089   99910  Puzzle Pirates   \n6417090   99910  Puzzle Pirates   \n6417091   99910  Puzzle Pirates   \n6417092   99910  Puzzle Pirates   \n6417093   99910  Puzzle Pirates   \n6417094   99910  Puzzle Pirates   \n6417095   99910  Puzzle Pirates   \n6417096   99910  Puzzle Pirates   \n6417097   99910  Puzzle Pirates   \n6417098   99910  Puzzle Pirates   \n6417099   99910  Puzzle Pirates   \n6417100   99910  Puzzle Pirates   \n6417101   99910  Puzzle Pirates   \n6417102   99910  Puzzle Pirates   \n6417103   99910  Puzzle Pirates   \n6417104   99910  Puzzle Pirates   \n6417105   99910  Puzzle Pirates   \n\n                                               review_text  review_score  \\\n6417086  Reminds me of the games I played in elementary...            -1   \n6417087                              I dont like this game            -1   \n6417088  The actual game play of Puzzle Pirates is grea...            -1   \n6417089  Rating based on current state of play, as per ...            -1   \n6417090                            This is just appalling.            -1   \n6417091  Set my age as less than 5 by mistake. Apparent...            -1   \n6417092  It is terrible because I cant ge on because of...            -1   \n6417093  Was fun for the first 30 minutes or so, got bo...            -1   \n6417094  The game is very awefull and strange. I think ...            -1   \n6417095  A very good game, got sick of it after a while...            -1   \n6417096  Imagine Bejeweled with a heavy grind based eco...            -1   \n6417097  This game has some serious problems. First of ...            -1   \n6417098  This game is good but also horrible. Its fun t...            -1   \n6417099  A very good game, got sick of it after a while...            -1   \n6417100  This game is good but also horrible. Its fun t...            -1   \n6417101  I really ove this game but it needs somethings...            -1   \n6417102  Used to play Puzzel Pirates 'way back when', b...            -1   \n6417103  This game was aright, though a bit annoying. W...            -1   \n6417104  I had a nice review to recommend this game, bu...            -1   \n6417105  The puzzles in this game are fun, but you have...            -1   \n\n         review_votes  \n6417086             0  \n6417087             0  \n6417088             0  \n6417089             0  \n6417090             0  \n6417091             0  \n6417092             0  \n6417093             0  \n6417094             0  \n6417095             1  \n6417096             0  \n6417097             0  \n6417098             0  \n6417099             1  \n6417100             0  \n6417101             0  \n6417102             0  \n6417103             0  \n6417104             0  \n6417105             0  ",
      "text/html": "<div>\n<style scoped>\n    .dataframe tbody tr th:only-of-type {\n        vertical-align: middle;\n    }\n\n    .dataframe tbody tr th {\n        vertical-align: top;\n    }\n\n    .dataframe thead th {\n        text-align: right;\n    }\n</style>\n<table border=\"1\" class=\"dataframe\">\n  <thead>\n    <tr style=\"text-align: right;\">\n      <th></th>\n      <th>app_id</th>\n      <th>app_name</th>\n      <th>review_text</th>\n      <th>review_score</th>\n      <th>review_votes</th>\n    </tr>\n  </thead>\n  <tbody>\n    <tr>\n      <th>6417086</th>\n      <td>99910</td>\n      <td>Puzzle Pirates</td>\n      <td>Reminds me of the games I played in elementary...</td>\n      <td>-1</td>\n      <td>0</td>\n    </tr>\n    <tr>\n      <th>6417087</th>\n      <td>99910</td>\n      <td>Puzzle Pirates</td>\n      <td>I dont like this game</td>\n      <td>-1</td>\n      <td>0</td>\n    </tr>\n    <tr>\n      <th>6417088</th>\n      <td>99910</td>\n      <td>Puzzle Pirates</td>\n      <td>The actual game play of Puzzle Pirates is grea...</td>\n      <td>-1</td>\n      <td>0</td>\n    </tr>\n    <tr>\n      <th>6417089</th>\n      <td>99910</td>\n      <td>Puzzle Pirates</td>\n      <td>Rating based on current state of play, as per ...</td>\n      <td>-1</td>\n      <td>0</td>\n    </tr>\n    <tr>\n      <th>6417090</th>\n      <td>99910</td>\n      <td>Puzzle Pirates</td>\n      <td>This is just appalling.</td>\n      <td>-1</td>\n      <td>0</td>\n    </tr>\n    <tr>\n      <th>6417091</th>\n      <td>99910</td>\n      <td>Puzzle Pirates</td>\n      <td>Set my age as less than 5 by mistake. Apparent...</td>\n      <td>-1</td>\n      <td>0</td>\n    </tr>\n    <tr>\n      <th>6417092</th>\n      <td>99910</td>\n      <td>Puzzle Pirates</td>\n      <td>It is terrible because I cant ge on because of...</td>\n      <td>-1</td>\n      <td>0</td>\n    </tr>\n    <tr>\n      <th>6417093</th>\n      <td>99910</td>\n      <td>Puzzle Pirates</td>\n      <td>Was fun for the first 30 minutes or so, got bo...</td>\n      <td>-1</td>\n      <td>0</td>\n    </tr>\n    <tr>\n      <th>6417094</th>\n      <td>99910</td>\n      <td>Puzzle Pirates</td>\n      <td>The game is very awefull and strange. I think ...</td>\n      <td>-1</td>\n      <td>0</td>\n    </tr>\n    <tr>\n      <th>6417095</th>\n      <td>99910</td>\n      <td>Puzzle Pirates</td>\n      <td>A very good game, got sick of it after a while...</td>\n      <td>-1</td>\n      <td>1</td>\n    </tr>\n    <tr>\n      <th>6417096</th>\n      <td>99910</td>\n      <td>Puzzle Pirates</td>\n      <td>Imagine Bejeweled with a heavy grind based eco...</td>\n      <td>-1</td>\n      <td>0</td>\n    </tr>\n    <tr>\n      <th>6417097</th>\n      <td>99910</td>\n      <td>Puzzle Pirates</td>\n      <td>This game has some serious problems. First of ...</td>\n      <td>-1</td>\n      <td>0</td>\n    </tr>\n    <tr>\n      <th>6417098</th>\n      <td>99910</td>\n      <td>Puzzle Pirates</td>\n      <td>This game is good but also horrible. Its fun t...</td>\n      <td>-1</td>\n      <td>0</td>\n    </tr>\n    <tr>\n      <th>6417099</th>\n      <td>99910</td>\n      <td>Puzzle Pirates</td>\n      <td>A very good game, got sick of it after a while...</td>\n      <td>-1</td>\n      <td>1</td>\n    </tr>\n    <tr>\n      <th>6417100</th>\n      <td>99910</td>\n      <td>Puzzle Pirates</td>\n      <td>This game is good but also horrible. Its fun t...</td>\n      <td>-1</td>\n      <td>0</td>\n    </tr>\n    <tr>\n      <th>6417101</th>\n      <td>99910</td>\n      <td>Puzzle Pirates</td>\n      <td>I really ove this game but it needs somethings...</td>\n      <td>-1</td>\n      <td>0</td>\n    </tr>\n    <tr>\n      <th>6417102</th>\n      <td>99910</td>\n      <td>Puzzle Pirates</td>\n      <td>Used to play Puzzel Pirates 'way back when', b...</td>\n      <td>-1</td>\n      <td>0</td>\n    </tr>\n    <tr>\n      <th>6417103</th>\n      <td>99910</td>\n      <td>Puzzle Pirates</td>\n      <td>This game was aright, though a bit annoying. W...</td>\n      <td>-1</td>\n      <td>0</td>\n    </tr>\n    <tr>\n      <th>6417104</th>\n      <td>99910</td>\n      <td>Puzzle Pirates</td>\n      <td>I had a nice review to recommend this game, bu...</td>\n      <td>-1</td>\n      <td>0</td>\n    </tr>\n    <tr>\n      <th>6417105</th>\n      <td>99910</td>\n      <td>Puzzle Pirates</td>\n      <td>The puzzles in this game are fun, but you have...</td>\n      <td>-1</td>\n      <td>0</td>\n    </tr>\n  </tbody>\n</table>\n</div>"
     },
     "execution_count": 123,
     "metadata": {},
     "output_type": "execute_result"
    }
   ],
   "source": [
    "import pandas as pd\n",
    "import numpy as np\n",
    "\n",
    "dataset = pd.read_csv(\"dataset.csv\")\n",
    "dataset.tail(20)"
   ],
   "metadata": {
    "collapsed": false
   }
  },
  {
   "cell_type": "code",
   "execution_count": 124,
   "outputs": [
    {
     "name": "stdout",
     "output_type": "stream",
     "text": [
      "<class 'pandas.core.frame.DataFrame'>\n",
      "RangeIndex: 6417106 entries, 0 to 6417105\n",
      "Data columns (total 5 columns):\n",
      " #   Column        Dtype \n",
      "---  ------        ----- \n",
      " 0   app_id        int64 \n",
      " 1   app_name      object\n",
      " 2   review_text   object\n",
      " 3   review_score  int64 \n",
      " 4   review_votes  int64 \n",
      "dtypes: int64(3), object(2)\n",
      "memory usage: 244.8+ MB\n"
     ]
    }
   ],
   "source": [
    "dataset.info()"
   ],
   "metadata": {
    "collapsed": false
   }
  },
  {
   "cell_type": "code",
   "execution_count": 125,
   "outputs": [
    {
     "data": {
      "text/plain": "             app_id  review_score  review_votes\ncount  6.417106e+06  6.417106e+06  6.417106e+06\nmean   2.274695e+05  6.394992e-01  1.472446e-01\nstd    1.260451e+05  7.687918e-01  3.543496e-01\nmin    1.000000e+01 -1.000000e+00  0.000000e+00\n25%    2.018100e+05  1.000000e+00  0.000000e+00\n50%    2.391600e+05  1.000000e+00  0.000000e+00\n75%    3.056200e+05  1.000000e+00  0.000000e+00\nmax    5.653400e+05  1.000000e+00  1.000000e+00",
      "text/html": "<div>\n<style scoped>\n    .dataframe tbody tr th:only-of-type {\n        vertical-align: middle;\n    }\n\n    .dataframe tbody tr th {\n        vertical-align: top;\n    }\n\n    .dataframe thead th {\n        text-align: right;\n    }\n</style>\n<table border=\"1\" class=\"dataframe\">\n  <thead>\n    <tr style=\"text-align: right;\">\n      <th></th>\n      <th>app_id</th>\n      <th>review_score</th>\n      <th>review_votes</th>\n    </tr>\n  </thead>\n  <tbody>\n    <tr>\n      <th>count</th>\n      <td>6.417106e+06</td>\n      <td>6.417106e+06</td>\n      <td>6.417106e+06</td>\n    </tr>\n    <tr>\n      <th>mean</th>\n      <td>2.274695e+05</td>\n      <td>6.394992e-01</td>\n      <td>1.472446e-01</td>\n    </tr>\n    <tr>\n      <th>std</th>\n      <td>1.260451e+05</td>\n      <td>7.687918e-01</td>\n      <td>3.543496e-01</td>\n    </tr>\n    <tr>\n      <th>min</th>\n      <td>1.000000e+01</td>\n      <td>-1.000000e+00</td>\n      <td>0.000000e+00</td>\n    </tr>\n    <tr>\n      <th>25%</th>\n      <td>2.018100e+05</td>\n      <td>1.000000e+00</td>\n      <td>0.000000e+00</td>\n    </tr>\n    <tr>\n      <th>50%</th>\n      <td>2.391600e+05</td>\n      <td>1.000000e+00</td>\n      <td>0.000000e+00</td>\n    </tr>\n    <tr>\n      <th>75%</th>\n      <td>3.056200e+05</td>\n      <td>1.000000e+00</td>\n      <td>0.000000e+00</td>\n    </tr>\n    <tr>\n      <th>max</th>\n      <td>5.653400e+05</td>\n      <td>1.000000e+00</td>\n      <td>1.000000e+00</td>\n    </tr>\n  </tbody>\n</table>\n</div>"
     },
     "execution_count": 125,
     "metadata": {},
     "output_type": "execute_result"
    }
   ],
   "source": [
    "dataset.describe()"
   ],
   "metadata": {
    "collapsed": false
   }
  },
  {
   "cell_type": "markdown",
   "source": "### There is around ~5x more positive reviews in the dataset than negative ones",
   "metadata": {
    "collapsed": false
   }
  },
  {
   "cell_type": "markdown",
   "source": "### Cleaning null entries",
   "metadata": {
    "collapsed": false
   }
  },
  {
   "cell_type": "code",
   "execution_count": 126,
   "outputs": [
    {
     "data": {
      "text/plain": "review_score\n 1    5260420\n-1    1156686\nName: count, dtype: int64"
     },
     "execution_count": 126,
     "metadata": {},
     "output_type": "execute_result"
    }
   ],
   "source": [
    "dataset[\"review_score\"].value_counts()"
   ],
   "metadata": {
    "collapsed": false
   }
  },
  {
   "cell_type": "code",
   "execution_count": 127,
   "outputs": [
    {
     "data": {
      "text/plain": "<AxesSubplot:xlabel='review_score'>"
     },
     "execution_count": 127,
     "metadata": {},
     "output_type": "execute_result"
    },
    {
     "data": {
      "text/plain": "<Figure size 640x480 with 1 Axes>",
      "image/png": "[encoded data removed]"
     },
     "metadata": {},
     "output_type": "display_data"
    }
   ],
   "source": [
    "dataset[\"review_score\"].value_counts().plot(kind=\"bar\")"
   ],
   "metadata": {
    "collapsed": false
   }
  },
  {
   "cell_type": "code",
   "execution_count": 128,
   "outputs": [],
   "source": [
    "dataset_without_na = dataset.dropna()"
   ],
   "metadata": {
    "collapsed": false
   }
  },
  {
   "cell_type": "code",
   "execution_count": 129,
   "outputs": [
    {
     "data": {
      "text/plain": "         app_id        app_name  \\\n0            10  Counter-Strike   \n1            10  Counter-Strike   \n2            10  Counter-Strike   \n3            10  Counter-Strike   \n4            10  Counter-Strike   \n...         ...             ...   \n6417101   99910  Puzzle Pirates   \n6417102   99910  Puzzle Pirates   \n6417103   99910  Puzzle Pirates   \n6417104   99910  Puzzle Pirates   \n6417105   99910  Puzzle Pirates   \n\n                                               review_text  review_score  \\\n0                                          Ruined my life.             1   \n1        This will be more of a ''my experience with th...             1   \n2                            This game saved my virginity.             1   \n3        • Do you like original games? • Do you like ga...             1   \n4                 Easy to learn, hard to master.                       1   \n...                                                    ...           ...   \n6417101  I really ove this game but it needs somethings...            -1   \n6417102  Used to play Puzzel Pirates 'way back when', b...            -1   \n6417103  This game was aright, though a bit annoying. W...            -1   \n6417104  I had a nice review to recommend this game, bu...            -1   \n6417105  The puzzles in this game are fun, but you have...            -1   \n\n         review_votes  \n0                   0  \n1                   1  \n2                   0  \n3                   0  \n4                   1  \n...               ...  \n6417101             0  \n6417102             0  \n6417103             0  \n6417104             0  \n6417105             0  \n\n[6226728 rows x 5 columns]",
      "text/html": "<div>\n<style scoped>\n    .dataframe tbody tr th:only-of-type {\n        vertical-align: middle;\n    }\n\n    .dataframe tbody tr th {\n        vertical-align: top;\n    }\n\n    .dataframe thead th {\n        text-align: right;\n    }\n</style>\n<table border=\"1\" class=\"dataframe\">\n  <thead>\n    <tr style=\"text-align: right;\">\n      <th></th>\n      <th>app_id</th>\n      <th>app_name</th>\n      <th>review_text</th>\n      <th>review_score</th>\n      <th>review_votes</th>\n    </tr>\n  </thead>\n  <tbody>\n    <tr>\n      <th>0</th>\n      <td>10</td>\n      <td>Counter-Strike</td>\n      <td>Ruined my life.</td>\n      <td>1</td>\n      <td>0</td>\n    </tr>\n    <tr>\n      <th>1</th>\n      <td>10</td>\n      <td>Counter-Strike</td>\n      <td>This will be more of a ''my experience with th...</td>\n      <td>1</td>\n      <td>1</td>\n    </tr>\n    <tr>\n      <th>2</th>\n      <td>10</td>\n      <td>Counter-Strike</td>\n      <td>This game saved my virginity.</td>\n      <td>1</td>\n      <td>0</td>\n    </tr>\n    <tr>\n      <th>3</th>\n      <td>10</td>\n      <td>Counter-Strike</td>\n      <td>• Do you like original games? • Do you like ga...</td>\n      <td>1</td>\n      <td>0</td>\n    </tr>\n    <tr>\n      <th>4</th>\n      <td>10</td>\n      <td>Counter-Strike</td>\n      <td>Easy to learn, hard to master.</td>\n      <td>1</td>\n      <td>1</td>\n    </tr>\n    <tr>\n      <th>...</th>\n      <td>...</td>\n      <td>...</td>\n      <td>...</td>\n      <td>...</td>\n      <td>...</td>\n    </tr>\n    <tr>\n      <th>6417101</th>\n      <td>99910</td>\n      <td>Puzzle Pirates</td>\n      <td>I really ove this game but it needs somethings...</td>\n      <td>-1</td>\n      <td>0</td>\n    </tr>\n    <tr>\n      <th>6417102</th>\n      <td>99910</td>\n      <td>Puzzle Pirates</td>\n      <td>Used to play Puzzel Pirates 'way back when', b...</td>\n      <td>-1</td>\n      <td>0</td>\n    </tr>\n    <tr>\n      <th>6417103</th>\n      <td>99910</td>\n      <td>Puzzle Pirates</td>\n      <td>This game was aright, though a bit annoying. W...</td>\n      <td>-1</td>\n      <td>0</td>\n    </tr>\n    <tr>\n      <th>6417104</th>\n      <td>99910</td>\n      <td>Puzzle Pirates</td>\n      <td>I had a nice review to recommend this game, bu...</td>\n      <td>-1</td>\n      <td>0</td>\n    </tr>\n    <tr>\n      <th>6417105</th>\n      <td>99910</td>\n      <td>Puzzle Pirates</td>\n      <td>The puzzles in this game are fun, but you have...</td>\n      <td>-1</td>\n      <td>0</td>\n    </tr>\n  </tbody>\n</table>\n<p>6226728 rows × 5 columns</p>\n</div>"
     },
     "execution_count": 129,
     "metadata": {},
     "output_type": "execute_result"
    }
   ],
   "source": [
    "dataset_without_na"
   ],
   "metadata": {
    "collapsed": false
   }
  },
  {
   "cell_type": "code",
   "execution_count": 130,
   "outputs": [],
   "source": [
    "dataset = dataset_without_na"
   ],
   "metadata": {
    "collapsed": false
   }
  },
  {
   "cell_type": "code",
   "execution_count": 131,
   "outputs": [
    {
     "data": {
      "text/plain": "review_score\n 1    5126132\n-1    1100596\nName: count, dtype: int64"
     },
     "execution_count": 131,
     "metadata": {},
     "output_type": "execute_result"
    }
   ],
   "source": [
    "dataset[\"review_score\"].value_counts()"
   ],
   "metadata": {
    "collapsed": false
   }
  },
  {
   "cell_type": "markdown",
   "source": "### Games with the highest number of reviews in the dataset",
   "metadata": {
    "collapsed": false
   }
  },
  {
   "cell_type": "code",
   "execution_count": 132,
   "outputs": [
    {
     "data": {
      "text/plain": "app_name\nDayZ                        88850\nPAYDAY 2                    88783\nTerraria                    84702\nRust                        77037\nDota 2                      73433\nRocket League               54188\nUndertale                   51878\nLeft 4 Dead 2               50863\nWarframe                    48164\nGrand Theft Auto V          42323\nRobocraft                   41596\nStarbound                   41141\nPortal 2                    38796\nSpace Engineers             37453\nFallout: New Vegas          32918\nArma 3                      32262\nThe Witcher 3: Wild Hunt    31830\nHeroes & Generals           31303\nBioShock Infinite           31076\nThe Forest                  29998\nName: count, dtype: int64"
     },
     "execution_count": 132,
     "metadata": {},
     "output_type": "execute_result"
    }
   ],
   "source": [
    "dataset['app_name'].value_counts().nlargest(20)"
   ],
   "metadata": {
    "collapsed": false
   }
  },
  {
   "cell_type": "markdown",
   "source": "### (Some?) reviews of early access games show up just as \"Early Access Review\", without the review content.",
   "metadata": {
    "collapsed": false
   }
  },
  {
   "cell_type": "code",
   "execution_count": 133,
   "outputs": [
    {
     "data": {
      "text/plain": "review_text\n Early Access Review      977399\n   Early Access Review     10571\n10/10                       6050\n.                           4769\nGreat game                  3662\ngreat game                  3554\nGreat game!                 2440\n:)                          2093\nNice game                   1793\nGreat Game                  1659\n♥♥♥♥                        1645\nGreat game.                 1633\ncool                        1502\n...                         1247\nits good                     974\nGreat Game!                  924\n9/10                         889\n8/10                         747\nGreat                        746\ni love this game             720\nName: count, dtype: int64"
     },
     "execution_count": 133,
     "metadata": {},
     "output_type": "execute_result"
    }
   ],
   "source": [
    "dataset['review_text'].value_counts().nlargest(20)"
   ],
   "metadata": {
    "collapsed": false
   }
  },
  {
   "cell_type": "code",
   "execution_count": 134,
   "outputs": [],
   "source": [
    "dataset = dataset[dataset['review_text'].str.contains(\"Early Access Review\")==False]"
   ],
   "metadata": {
    "collapsed": false
   }
  },
  {
   "cell_type": "code",
   "execution_count": 135,
   "outputs": [
    {
     "data": {
      "text/plain": "review_text\n10/10          6050\n.              4769\nGreat game     3662\ngreat game     3554\nGreat game!    2440\nName: count, dtype: int64"
     },
     "execution_count": 135,
     "metadata": {},
     "output_type": "execute_result"
    }
   ],
   "source": [
    "dataset['review_text'].value_counts().nlargest(5)"
   ],
   "metadata": {
    "collapsed": false
   }
  },
  {
   "cell_type": "code",
   "execution_count": 136,
   "outputs": [
    {
     "data": {
      "text/plain": "review_score\n 1    4341259\n-1     897431\nName: count, dtype: int64"
     },
     "execution_count": 136,
     "metadata": {},
     "output_type": "execute_result"
    }
   ],
   "source": [
    "dataset[\"review_score\"].value_counts()"
   ],
   "metadata": {
    "collapsed": false
   }
  },
  {
   "cell_type": "markdown",
   "source": "### Since the dataset is quite large, I'll only use a small subset of it in order to train the model faster",
   "metadata": {
    "collapsed": false
   }
  },
  {
   "cell_type": "code",
   "execution_count": 137,
   "outputs": [
    {
     "data": {
      "text/plain": "review_score\n 1    130102\n-1     27059\nName: count, dtype: int64"
     },
     "execution_count": 137,
     "metadata": {},
     "output_type": "execute_result"
    }
   ],
   "source": [
    "dataset = dataset.sample(frac=0.03)\n",
    "dataset[\"review_score\"].value_counts()"
   ],
   "metadata": {
    "collapsed": false
   }
  },
  {
   "cell_type": "markdown",
   "source": "### Dropping unneeded columns",
   "metadata": {
    "collapsed": false
   }
  },
  {
   "cell_type": "code",
   "execution_count": 138,
   "outputs": [
    {
     "name": "stdout",
     "output_type": "stream",
     "text": [
      "<class 'pandas.core.frame.DataFrame'>\n",
      "Index: 157161 entries, 1260671 to 6268511\n",
      "Data columns (total 2 columns):\n",
      " #   Column        Non-Null Count   Dtype \n",
      "---  ------        --------------   ----- \n",
      " 0   review_text   157161 non-null  object\n",
      " 1   review_score  157161 non-null  int64 \n",
      "dtypes: int64(1), object(1)\n",
      "memory usage: 3.6+ MB\n"
     ]
    }
   ],
   "source": [
    "dataset = dataset.drop(columns=[\"app_id\", \"review_votes\", \"app_name\"])\n",
    "dataset.info()"
   ],
   "metadata": {
    "collapsed": false
   }
  },
  {
   "cell_type": "markdown",
   "source": "### Data split",
   "metadata": {
    "collapsed": false
   }
  },
  {
   "cell_type": "code",
   "execution_count": 139,
   "outputs": [],
   "source": [
    "from sklearn.model_selection import train_test_split\n",
    "\n",
    "train, test_and_valid = train_test_split(dataset, test_size=0.2)\n",
    "test, valid = train_test_split(test_and_valid, test_size=0.5)"
   ],
   "metadata": {
    "collapsed": false
   }
  },
  {
   "cell_type": "markdown",
   "source": "### Downsampling the positive review class for the training dataset",
   "metadata": {
    "collapsed": false
   }
  },
  {
   "cell_type": "code",
   "execution_count": 140,
   "outputs": [
    {
     "data": {
      "text/plain": "review_score\n 1    104113\n-1     21615\nName: count, dtype: int64"
     },
     "execution_count": 140,
     "metadata": {},
     "output_type": "execute_result"
    }
   ],
   "source": [
    "train[\"review_score\"].value_counts()"
   ],
   "metadata": {
    "collapsed": false
   }
  },
  {
   "cell_type": "code",
   "execution_count": 141,
   "outputs": [],
   "source": [
    "dataset_positive_reviews = train[train[\"review_score\"]==1]\n",
    "dataset_negative_reviews = train[train[\"review_score\"]==-1]\n",
    "\n",
    "dataset_positive_reviews = dataset_positive_reviews.sample(21615)\n",
    "train = pd.concat([dataset_positive_reviews,dataset_negative_reviews])\n",
    "train = train.sample(frac=1.0) # Shuffling the dataset\n",
    "train = train.reset_index(drop=True)"
   ],
   "metadata": {
    "collapsed": false
   }
  },
  {
   "cell_type": "code",
   "execution_count": 142,
   "outputs": [
    {
     "data": {
      "text/plain": "<AxesSubplot:ylabel='count'>"
     },
     "execution_count": 142,
     "metadata": {},
     "output_type": "execute_result"
    },
    {
     "data": {
      "text/plain": "<Figure size 640x480 with 1 Axes>",
      "image/png": "[encoded data removed]"
     },
     "metadata": {},
     "output_type": "display_data"
    }
   ],
   "source": [
    "train[\"review_score\"].value_counts().plot(kind=\"pie\")"
   ],
   "metadata": {
    "collapsed": false
   }
  },
  {
   "cell_type": "code",
   "execution_count": 143,
   "outputs": [
    {
     "data": {
      "text/plain": "<AxesSubplot:ylabel='count'>"
     },
     "execution_count": 143,
     "metadata": {},
     "output_type": "execute_result"
    },
    {
     "data": {
      "text/plain": "<Figure size 640x480 with 1 Axes>",
      "image/png": "[encoded data removed]"
     },
     "metadata": {},
     "output_type": "display_data"
    }
   ],
   "source": [
    "test[\"review_score\"].value_counts().plot(kind=\"pie\")"
   ],
   "metadata": {
    "collapsed": false
   }
  },
  {
   "cell_type": "code",
   "execution_count": 144,
   "outputs": [
    {
     "data": {
      "text/plain": "<AxesSubplot:ylabel='count'>"
     },
     "execution_count": 144,
     "metadata": {},
     "output_type": "execute_result"
    },
    {
     "data": {
      "text/plain": "<Figure size 640x480 with 1 Axes>",
      "image/png": "[encoded data removed]"
     },
     "metadata": {},
     "output_type": "display_data"
    }
   ],
   "source": [
    "valid[\"review_score\"].value_counts().plot(kind=\"pie\")"
   ],
   "metadata": {
    "collapsed": false
   }
  },
  {
   "cell_type": "code",
   "execution_count": 145,
   "outputs": [
    {
     "name": "stdout",
     "output_type": "stream",
     "text": [
      "<class 'pandas.core.frame.DataFrame'>\n",
      "RangeIndex: 43230 entries, 0 to 43229\n",
      "Data columns (total 2 columns):\n",
      " #   Column        Non-Null Count  Dtype \n",
      "---  ------        --------------  ----- \n",
      " 0   review_text   43230 non-null  object\n",
      " 1   review_score  43230 non-null  int64 \n",
      "dtypes: int64(1), object(1)\n",
      "memory usage: 675.6+ KB\n"
     ]
    }
   ],
   "source": [
    "train.info()"
   ],
   "metadata": {
    "collapsed": false
   }
  },
  {
   "cell_type": "code",
   "execution_count": 146,
   "outputs": [
    {
     "name": "stdout",
     "output_type": "stream",
     "text": [
      "<class 'pandas.core.frame.DataFrame'>\n",
      "Index: 15716 entries, 1265039 to 5454569\n",
      "Data columns (total 2 columns):\n",
      " #   Column        Non-Null Count  Dtype \n",
      "---  ------        --------------  ----- \n",
      " 0   review_text   15716 non-null  object\n",
      " 1   review_score  15716 non-null  int64 \n",
      "dtypes: int64(1), object(1)\n",
      "memory usage: 368.3+ KB\n"
     ]
    }
   ],
   "source": [
    "test.info()"
   ],
   "metadata": {
    "collapsed": false
   }
  },
  {
   "cell_type": "code",
   "execution_count": 147,
   "outputs": [
    {
     "name": "stdout",
     "output_type": "stream",
     "text": [
      "<class 'pandas.core.frame.DataFrame'>\n",
      "Index: 15717 entries, 5012153 to 4962820\n",
      "Data columns (total 2 columns):\n",
      " #   Column        Non-Null Count  Dtype \n",
      "---  ------        --------------  ----- \n",
      " 0   review_text   15717 non-null  object\n",
      " 1   review_score  15717 non-null  int64 \n",
      "dtypes: int64(1), object(1)\n",
      "memory usage: 368.4+ KB\n"
     ]
    }
   ],
   "source": [
    "valid.info()"
   ],
   "metadata": {
    "collapsed": false
   }
  },
  {
   "cell_type": "markdown",
   "source": "### Examples from each split dataset",
   "metadata": {
    "collapsed": false
   }
  },
  {
   "cell_type": "code",
   "execution_count": 148,
   "outputs": [
    {
     "data": {
      "text/plain": "                                         review_text  review_score\n0  I'm the biggest fan you will ever meet of tile...            -1\n1  Really an improvement on the old game (Which w...             1\n2  celebrating the four year birthday of payday w...            -1\n3  Only fun when playing with friends. Can't join...            -1\n4  While smashing planets together can be fun, th...            -1",
      "text/html": "<div>\n<style scoped>\n    .dataframe tbody tr th:only-of-type {\n        vertical-align: middle;\n    }\n\n    .dataframe tbody tr th {\n        vertical-align: top;\n    }\n\n    .dataframe thead th {\n        text-align: right;\n    }\n</style>\n<table border=\"1\" class=\"dataframe\">\n  <thead>\n    <tr style=\"text-align: right;\">\n      <th></th>\n      <th>review_text</th>\n      <th>review_score</th>\n    </tr>\n  </thead>\n  <tbody>\n    <tr>\n      <th>0</th>\n      <td>I'm the biggest fan you will ever meet of tile...</td>\n      <td>-1</td>\n    </tr>\n    <tr>\n      <th>1</th>\n      <td>Really an improvement on the old game (Which w...</td>\n      <td>1</td>\n    </tr>\n    <tr>\n      <th>2</th>\n      <td>celebrating the four year birthday of payday w...</td>\n      <td>-1</td>\n    </tr>\n    <tr>\n      <th>3</th>\n      <td>Only fun when playing with friends. Can't join...</td>\n      <td>-1</td>\n    </tr>\n    <tr>\n      <th>4</th>\n      <td>While smashing planets together can be fun, th...</td>\n      <td>-1</td>\n    </tr>\n  </tbody>\n</table>\n</div>"
     },
     "execution_count": 148,
     "metadata": {},
     "output_type": "execute_result"
    }
   ],
   "source": [
    "train.head()"
   ],
   "metadata": {
    "collapsed": false
   }
  },
  {
   "cell_type": "code",
   "execution_count": 149,
   "outputs": [
    {
     "data": {
      "text/plain": "                                               review_text  review_score\n1265039  I love the Fact you can do what EVER you want ...             1\n3132003  Tony Hawk's without the Pro Skater. Finding ou...             1\n880195                                   It's pretty good.             1\n717128   This the best dungeon game I have played since...             1\n5221356  Totally awesome game alone or with a friend. I...             1",
      "text/html": "<div>\n<style scoped>\n    .dataframe tbody tr th:only-of-type {\n        vertical-align: middle;\n    }\n\n    .dataframe tbody tr th {\n        vertical-align: top;\n    }\n\n    .dataframe thead th {\n        text-align: right;\n    }\n</style>\n<table border=\"1\" class=\"dataframe\">\n  <thead>\n    <tr style=\"text-align: right;\">\n      <th></th>\n      <th>review_text</th>\n      <th>review_score</th>\n    </tr>\n  </thead>\n  <tbody>\n    <tr>\n      <th>1265039</th>\n      <td>I love the Fact you can do what EVER you want ...</td>\n      <td>1</td>\n    </tr>\n    <tr>\n      <th>3132003</th>\n      <td>Tony Hawk's without the Pro Skater. Finding ou...</td>\n      <td>1</td>\n    </tr>\n    <tr>\n      <th>880195</th>\n      <td>It's pretty good.</td>\n      <td>1</td>\n    </tr>\n    <tr>\n      <th>717128</th>\n      <td>This the best dungeon game I have played since...</td>\n      <td>1</td>\n    </tr>\n    <tr>\n      <th>5221356</th>\n      <td>Totally awesome game alone or with a friend. I...</td>\n      <td>1</td>\n    </tr>\n  </tbody>\n</table>\n</div>"
     },
     "execution_count": 149,
     "metadata": {},
     "output_type": "execute_result"
    }
   ],
   "source": [
    "test.head()"
   ],
   "metadata": {
    "collapsed": false
   }
  },
  {
   "cell_type": "code",
   "execution_count": 150,
   "outputs": [
    {
     "data": {
      "text/plain": "                                               review_text  review_score\n5012153  ..it's like nights into dreams and treasures o...             1\n5818758  As someone who mostly just likes making cool s...             1\n4582102  What can I say about this game the story is sh...             1\n5242842  A very unique and enjoyable puzzle solving str...             1\n5400923                    A very adorable, charming game.             1",
      "text/html": "<div>\n<style scoped>\n    .dataframe tbody tr th:only-of-type {\n        vertical-align: middle;\n    }\n\n    .dataframe tbody tr th {\n        vertical-align: top;\n    }\n\n    .dataframe thead th {\n        text-align: right;\n    }\n</style>\n<table border=\"1\" class=\"dataframe\">\n  <thead>\n    <tr style=\"text-align: right;\">\n      <th></th>\n      <th>review_text</th>\n      <th>review_score</th>\n    </tr>\n  </thead>\n  <tbody>\n    <tr>\n      <th>5012153</th>\n      <td>..it's like nights into dreams and treasures o...</td>\n      <td>1</td>\n    </tr>\n    <tr>\n      <th>5818758</th>\n      <td>As someone who mostly just likes making cool s...</td>\n      <td>1</td>\n    </tr>\n    <tr>\n      <th>4582102</th>\n      <td>What can I say about this game the story is sh...</td>\n      <td>1</td>\n    </tr>\n    <tr>\n      <th>5242842</th>\n      <td>A very unique and enjoyable puzzle solving str...</td>\n      <td>1</td>\n    </tr>\n    <tr>\n      <th>5400923</th>\n      <td>A very adorable, charming game.</td>\n      <td>1</td>\n    </tr>\n  </tbody>\n</table>\n</div>"
     },
     "execution_count": 150,
     "metadata": {},
     "output_type": "execute_result"
    }
   ],
   "source": [
    "valid.head()"
   ],
   "metadata": {
    "collapsed": false
   }
  },
  {
   "cell_type": "markdown",
   "source": "### Saving the cleaned up dataset",
   "metadata": {
    "collapsed": false
   }
  },
  {
   "cell_type": "code",
   "execution_count": 151,
   "outputs": [],
   "source": [
    "train.to_csv(\"train.csv\")\n",
    "test.to_csv(\"test.csv\")\n",
    "valid.to_csv(\"valid.csv\")"
   ],
   "metadata": {
    "collapsed": false
   }
  },
  {
   "cell_type": "code",
   "execution_count": null,
   "outputs": [],
   "source": [],
   "metadata": {
    "collapsed": false
   }
  }
 ],
 "metadata": {
  "kernelspec": {
   "display_name": "Python 3",
   "language": "python",
   "name": "python3"
  },
  "language_info": {
   "codemirror_mode": {
    "name": "ipython",
    "version": 2
   },
   "file_extension": ".py",
   "mimetype": "text/x-python",
   "name": "python",
   "nbconvert_exporter": "python",
   "pygments_lexer": "ipython2",
   "version": "2.7.6"
  }
 },
 "nbformat": 4,
 "nbformat_minor": 0
}
